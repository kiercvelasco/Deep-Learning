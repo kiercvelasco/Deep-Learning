{
  "nbformat": 4,
  "nbformat_minor": 0,
  "metadata": {
    "kernelspec": {
      "name": "python3",
      "display_name": "Python 3",
      "language": "python"
    },
    "language_info": {
      "name": "python",
      "version": "3.7.9",
      "mimetype": "text/x-python",
      "codemirror_mode": {
        "name": "ipython",
        "version": 3
      },
      "pygments_lexer": "ipython3",
      "nbconvert_exporter": "python",
      "file_extension": ".py"
    },
    "colab": {
      "name": "svhn-on-3-networks.ipynb",
      "provenance": [],
      "collapsed_sections": [],
      "include_colab_link": true
    },
    "accelerator": "GPU"
  },
  "cells": [
    {
      "cell_type": "markdown",
      "metadata": {
        "id": "view-in-github",
        "colab_type": "text"
      },
      "source": [
        "<a href=\"https://colab.research.google.com/github/kiercvelasco/Deep-Learning/blob/main/svhn_on_3_networks.ipynb\" target=\"_parent\"><img src=\"https://colab.research.google.com/assets/colab-badge.svg\" alt=\"Open In Colab\"/></a>"
      ]
    },
    {
      "cell_type": "markdown",
      "metadata": {
        "id": "rfKAE4VJNSTn"
      },
      "source": [
        "# ***SVHN Classifier using 3 Networks***"
      ]
    },
    {
      "cell_type": "markdown",
      "metadata": {
        "id": "OrRWOiQfNST2"
      },
      "source": [
        "In this notebook the SVHN dataset cropped digits format (http://ufldl.stanford.edu/housenumbers/) was used to train 3 different classifiers using 3 different pretrained networks: resnet50d, densenet121, and mobilenet_v3. All three models were imported from the timm module.\n",
        "The notebook was created and run via Google Colab."
      ]
    },
    {
      "cell_type": "code",
      "metadata": {
        "colab": {
          "base_uri": "https://localhost:8080/"
        },
        "id": "B04DAuQfNvkW",
        "outputId": "2cc10b47-1fdf-4b76-d64c-91ee517587d3"
      },
      "source": [
        "from google.colab import drive\r\n",
        "drive.mount('/content/gdrive')"
      ],
      "execution_count": 1,
      "outputs": [
        {
          "output_type": "stream",
          "text": [
            "Mounted at /content/gdrive\n"
          ],
          "name": "stdout"
        }
      ]
    },
    {
      "cell_type": "code",
      "metadata": {
        "colab": {
          "base_uri": "https://localhost:8080/"
        },
        "id": "qeYqPNZCPJJ0",
        "outputId": "3491dea7-5351-49ab-d47c-332ab91bf27a"
      },
      "source": [
        "pip install timm"
      ],
      "execution_count": 2,
      "outputs": [
        {
          "output_type": "stream",
          "text": [
            "Collecting timm\n",
            "\u001b[?25l  Downloading https://files.pythonhosted.org/packages/22/c6/ba02d533cec7329323c7d7a317ab49f673846ecef202d4cc40988b6b7786/timm-0.3.4-py3-none-any.whl (244kB)\n",
            "\r\u001b[K     |█▍                              | 10kB 21.5MB/s eta 0:00:01\r\u001b[K     |██▊                             | 20kB 14.7MB/s eta 0:00:01\r\u001b[K     |████                            | 30kB 9.5MB/s eta 0:00:01\r\u001b[K     |█████▍                          | 40kB 10.2MB/s eta 0:00:01\r\u001b[K     |██████▊                         | 51kB 7.0MB/s eta 0:00:01\r\u001b[K     |████████                        | 61kB 8.1MB/s eta 0:00:01\r\u001b[K     |█████████▍                      | 71kB 8.5MB/s eta 0:00:01\r\u001b[K     |██████████▊                     | 81kB 8.8MB/s eta 0:00:01\r\u001b[K     |████████████                    | 92kB 8.5MB/s eta 0:00:01\r\u001b[K     |█████████████▍                  | 102kB 7.7MB/s eta 0:00:01\r\u001b[K     |██████████████▊                 | 112kB 7.7MB/s eta 0:00:01\r\u001b[K     |████████████████                | 122kB 7.7MB/s eta 0:00:01\r\u001b[K     |█████████████████▍              | 133kB 7.7MB/s eta 0:00:01\r\u001b[K     |██████████████████▊             | 143kB 7.7MB/s eta 0:00:01\r\u001b[K     |████████████████████            | 153kB 7.7MB/s eta 0:00:01\r\u001b[K     |█████████████████████▍          | 163kB 7.7MB/s eta 0:00:01\r\u001b[K     |██████████████████████▊         | 174kB 7.7MB/s eta 0:00:01\r\u001b[K     |████████████████████████        | 184kB 7.7MB/s eta 0:00:01\r\u001b[K     |█████████████████████████▍      | 194kB 7.7MB/s eta 0:00:01\r\u001b[K     |██████████████████████████▊     | 204kB 7.7MB/s eta 0:00:01\r\u001b[K     |████████████████████████████    | 215kB 7.7MB/s eta 0:00:01\r\u001b[K     |█████████████████████████████▍  | 225kB 7.7MB/s eta 0:00:01\r\u001b[K     |██████████████████████████████▉ | 235kB 7.7MB/s eta 0:00:01\r\u001b[K     |████████████████████████████████| 245kB 7.7MB/s \n",
            "\u001b[?25hRequirement already satisfied: torchvision in /usr/local/lib/python3.7/dist-packages (from timm) (0.8.1+cu101)\n",
            "Requirement already satisfied: torch>=1.4 in /usr/local/lib/python3.7/dist-packages (from timm) (1.7.0+cu101)\n",
            "Requirement already satisfied: pillow>=4.1.1 in /usr/local/lib/python3.7/dist-packages (from torchvision->timm) (7.0.0)\n",
            "Requirement already satisfied: numpy in /usr/local/lib/python3.7/dist-packages (from torchvision->timm) (1.19.5)\n",
            "Requirement already satisfied: typing-extensions in /usr/local/lib/python3.7/dist-packages (from torch>=1.4->timm) (3.7.4.3)\n",
            "Requirement already satisfied: future in /usr/local/lib/python3.7/dist-packages (from torch>=1.4->timm) (0.16.0)\n",
            "Requirement already satisfied: dataclasses in /usr/local/lib/python3.7/dist-packages (from torch>=1.4->timm) (0.6)\n",
            "Installing collected packages: timm\n",
            "Successfully installed timm-0.3.4\n"
          ],
          "name": "stdout"
        }
      ]
    },
    {
      "cell_type": "code",
      "metadata": {
        "trusted": true,
        "id": "suc6gPHSNST4"
      },
      "source": [
        "import torch\n",
        "import torch.nn as nn\n",
        "import torch.nn.functional as F\n",
        "import torch.optim as optim\n",
        "from torch.optim import lr_scheduler\n",
        "import torchvision\n",
        "from torchvision import datasets, transforms\n",
        "import timm\n",
        "import numpy as np\n",
        "import matplotlib.pyplot as plt\n",
        "import time\n",
        "import os\n",
        "import scipy\n",
        "import copy\n",
        "\n",
        "#device config\n",
        "device = torch.device('cuda' if torch.cuda.is_available() else 'cpu')"
      ],
      "execution_count": 3,
      "outputs": []
    },
    {
      "cell_type": "code",
      "metadata": {
        "colab": {
          "base_uri": "https://localhost:8080/"
        },
        "id": "qBI6eWRQP5SU",
        "outputId": "3a5714c3-17da-4b3c-c6e8-64e19abebbef"
      },
      "source": [
        "print(torch.cuda.is_available())"
      ],
      "execution_count": 4,
      "outputs": [
        {
          "output_type": "stream",
          "text": [
            "True\n"
          ],
          "name": "stdout"
        }
      ]
    },
    {
      "cell_type": "code",
      "metadata": {
        "trusted": true,
        "id": "AXAcnglYNST6"
      },
      "source": [
        "mean = np.array([0.4377, 0.4438, 0.4728])\n",
        "std = np.array([0.1980, 0.2010, 0.1970])\n",
        "\n",
        "pre_processing = transforms.Compose([\n",
        "    transforms.ToTensor(),\n",
        "    transforms.Normalize(mean, std)\n",
        "])\n",
        "\n",
        "#loading dataset\n",
        "root = '/content/gdrive/My Drive/Deep Learning/Datasets/SVHN-dataset'\n",
        "sets = ['train', 'test']\n",
        "image_datasets = {x: datasets.SVHN(root=os.path.join(root, x), split=x, transform=pre_processing)\n",
        "                 for x in sets}\n",
        "\n",
        "data_loaders = {x: torch.utils.data.DataLoader(image_datasets[x], batch_size=64,\n",
        "                                              shuffle=True, num_workers=0)\n",
        "               for x in sets}\n",
        "\n",
        "dataset_sizes = {x: len(image_datasets[x]) for x in sets}"
      ],
      "execution_count": 5,
      "outputs": []
    },
    {
      "cell_type": "markdown",
      "metadata": {
        "id": "Bh6kxzGoNST7"
      },
      "source": [
        "Mean and standard deviantion used was calculated separately using the SVHN dataset.\n",
        "The SVHN dataset was loaded using the SVHN function from torchvision. This function automatically changes the labeling of the 0 digit from 10 to 0."
      ]
    },
    {
      "cell_type": "markdown",
      "metadata": {
        "id": "rSg0VA3Z4A1M"
      },
      "source": [
        "The train_model function runs both training and testing of the model. It prints out the loss and accuracy for every epoch during training and also stores train and test data to lists for later use."
      ]
    },
    {
      "cell_type": "code",
      "metadata": {
        "trusted": true,
        "id": "lJRgwHNKNST8"
      },
      "source": [
        "def train_model(model, criterion, optimizer, scheduler, loss_vals, acc_vals, num_epochs=25):\n",
        "    since = time.time()\n",
        "    \n",
        "    best_model_wts = copy.deepcopy(model.state_dict())\n",
        "    best_acc = 0.0\n",
        "    \n",
        "    for epoch in range(num_epochs):\n",
        "        print(f'Epoch {epoch}/{num_epochs-1}')\n",
        "        print('-' * 10)\n",
        "        \n",
        "        for phase in sets:\n",
        "            if phase == 'train':\n",
        "                model.train()\n",
        "            else:\n",
        "                model.eval()\n",
        "            \n",
        "            running_loss = 0.0\n",
        "            running_corrects = 0\n",
        "            \n",
        "            for inputs, labels in data_loaders[phase]:\n",
        "                inputs = inputs.to(device)\n",
        "                labels = labels.to(device)\n",
        "            \n",
        "                with torch.set_grad_enabled(phase == 'train'):\n",
        "                    outputs = model(inputs)\n",
        "                    _, preds = torch.max(outputs, 1)\n",
        "                    loss = criterion(outputs, labels)\n",
        "                \n",
        "                    if phase == 'train':\n",
        "                        optimizer.zero_grad()\n",
        "                        loss.backward()\n",
        "                        optimizer.step()\n",
        "                    \n",
        "                running_loss += loss.item() * inputs.size(0)\n",
        "                running_corrects += torch.sum(preds == labels.data)\n",
        "            \n",
        "            if phase == 'train':\n",
        "                scheduler.step()\n",
        "            \n",
        "            epoch_loss = running_loss / dataset_sizes[phase]\n",
        "            epoch_acc = running_corrects.double() / dataset_sizes[phase]\n",
        "        \n",
        "            print(f'{phase} Loss: {epoch_loss:.4f} Acc: {epoch_acc:.4f}')\n",
        "            \n",
        "            loss_vals[phase].append(epoch_loss)\n",
        "            acc_vals[phase].append(epoch_acc)\n",
        "        \n",
        "            if phase == 'test' and epoch_acc > best_acc:\n",
        "                best_acc = epoch_acc\n",
        "                best_mode_wts = copy.deepcopy(model.state_dict())\n",
        "        \n",
        "        print()\n",
        "        \n",
        "    time_elapsed = time.time() - since\n",
        "    print(f'Training completed in {time_elapsed//60:.0f}m {time_elapsed % 60:.0f}s')\n",
        "    print(f'Best val Acc: {best_acc:4f}')\n",
        "    \n",
        "    model.load_state_dict(best_model_wts)\n",
        "    \n",
        "    return model"
      ],
      "execution_count": 6,
      "outputs": []
    },
    {
      "cell_type": "markdown",
      "metadata": {
        "id": "f91J-qP7NST-"
      },
      "source": [
        "The following cell is class definitions for each of the 3 models (resnet50d, densenet121, and mobilenet_v3). The classifier layer of each models are replaced with a custom classifier for the SVHN dataset."
      ]
    },
    {
      "cell_type": "code",
      "metadata": {
        "trusted": true,
        "id": "N8Zr7OvoNST_"
      },
      "source": [
        "#resnet50d\n",
        "class Resnet50d(nn.Module):\n",
        "    def __init__(self):\n",
        "        super(Resnet50d, self).__init__()\n",
        "        self.model = timm.create_model('resnet50d', pretrained=True)\n",
        "        self.classifier_layer = nn.Sequential(\n",
        "            nn.Linear(2048, 1024),\n",
        "            nn.BatchNorm1d(1024),\n",
        "            nn.Dropout(0.2),\n",
        "            nn.Linear(1024, 512),\n",
        "            nn.Linear(512, 10)\n",
        "        )\n",
        "    \n",
        "    def forward(self, x):\n",
        "        x = self.model.forward_features(x)\n",
        "        x = self.model.global_pool(x)\n",
        "        if self.model.drop_rate:\n",
        "            x = F.dropout(x, p=float(self.model.drop_rate), training=self.model.training)\n",
        "        x = self.classifier_layer(x)\n",
        "        return x\n",
        "    \n",
        "#densenet121\n",
        "class Densenet121(nn.Module):\n",
        "    def __init__(self):\n",
        "        super(Densenet121, self).__init__()\n",
        "        self.model = timm.create_model('densenet121', pretrained=True)\n",
        "        self.classifier_layer = nn.Sequential(\n",
        "            nn.Linear(1024, 512),\n",
        "            nn.BatchNorm1d(512),\n",
        "            nn.Dropout(0.2),\n",
        "            nn.Linear(512, 256),\n",
        "            nn.Linear(256, 10)\n",
        "        )\n",
        "    \n",
        "    def forward(self, x):\n",
        "        x = self.model.forward_features(x)\n",
        "        x = self.model.global_pool(x)\n",
        "        # both classifier and block drop?\n",
        "        # if self.drop_rate > 0.:\n",
        "        #     x = F.dropout(x, p=self.drop_rate, training=self.training)\n",
        "        x = self.classifier_layer(x)\n",
        "        return x\n",
        "    \n",
        "#mobilenet_v3\n",
        "class Mobilenet_v3(nn.Module):\n",
        "    def __init__(self):\n",
        "        super(Mobilenet_v3, self).__init__()\n",
        "        self.model = timm.create_model('mobilenetv3_rw', pretrained=True)\n",
        "        self.classifier_layer = nn.Sequential(\n",
        "            nn.Linear(1280, 640),\n",
        "            nn.BatchNorm1d(640),\n",
        "            nn.Dropout(0.2),\n",
        "            nn.Linear(640, 320),\n",
        "            nn.Linear(320, 10)\n",
        "        )\n",
        "    \n",
        "    def forward(self, x):\n",
        "        x = self.model.forward_features(x)\n",
        "        if not self.model.global_pool.is_identity():\n",
        "            x = x.flatten(1)\n",
        "        if self.model.drop_rate > 0.:\n",
        "            x = F.dropout(x, p=self.model.drop_rate, training=self.model.training)\n",
        "        return self.classifier_layer(x)"
      ],
      "execution_count": 7,
      "outputs": []
    },
    {
      "cell_type": "markdown",
      "metadata": {
        "id": "XSslpS6RNST_"
      },
      "source": [
        "The following cells executes the training of the models using cross entropy loss, Adam optimizer, and stepLR learning rate scheduler."
      ]
    },
    {
      "cell_type": "code",
      "metadata": {
        "trusted": true,
        "colab": {
          "base_uri": "https://localhost:8080/"
        },
        "id": "-HNjqY_CNSUA",
        "outputId": "8e35a1dc-62d3-42d8-ab7c-2fa91d6d7f81"
      },
      "source": [
        "#train resnet50d\n",
        "model_R50d = Resnet50d()\n",
        "model_R50d.to(device)\n",
        "\n",
        "criterion = nn.CrossEntropyLoss()\n",
        "optimizer = optim.Adam(model_R50d.parameters(), lr=0.001)\n",
        "\n",
        "R50d_loss = {'train': [], 'test' : []}\n",
        "R50d_acc = {'train' : [], 'test' : []}\n",
        "\n",
        "step_lr_scheduler = lr_scheduler.StepLR(optimizer, step_size=7, gamma=0.1)\n",
        "model_R50d = train_model(model_R50d, criterion, optimizer, step_lr_scheduler, R50d_loss, R50d_acc, num_epochs=20)"
      ],
      "execution_count": 8,
      "outputs": [
        {
          "output_type": "stream",
          "text": [
            "Downloading: \"https://github.com/rwightman/pytorch-image-models/releases/download/v0.1-weights/resnet50d_ra2-464e36ba.pth\" to /root/.cache/torch/hub/checkpoints/resnet50d_ra2-464e36ba.pth\n"
          ],
          "name": "stderr"
        },
        {
          "output_type": "stream",
          "text": [
            "Epoch 0/19\n",
            "----------\n",
            "train Loss: 0.7369 Acc: 0.7752\n",
            "test Loss: 0.2670 Acc: 0.9271\n",
            "\n",
            "Epoch 1/19\n",
            "----------\n",
            "train Loss: 0.2942 Acc: 0.9198\n",
            "test Loss: 0.2346 Acc: 0.9381\n",
            "\n",
            "Epoch 2/19\n",
            "----------\n",
            "train Loss: 0.2362 Acc: 0.9379\n",
            "test Loss: 0.2378 Acc: 0.9366\n",
            "\n",
            "Epoch 3/19\n",
            "----------\n",
            "train Loss: 0.1933 Acc: 0.9480\n",
            "test Loss: 0.2074 Acc: 0.9463\n",
            "\n",
            "Epoch 4/19\n",
            "----------\n",
            "train Loss: 0.1742 Acc: 0.9537\n",
            "test Loss: 0.2168 Acc: 0.9411\n",
            "\n",
            "Epoch 5/19\n",
            "----------\n",
            "train Loss: 0.1552 Acc: 0.9590\n",
            "test Loss: 0.2236 Acc: 0.9440\n",
            "\n",
            "Epoch 6/19\n",
            "----------\n",
            "train Loss: 0.1307 Acc: 0.9648\n",
            "test Loss: 0.2269 Acc: 0.9486\n",
            "\n",
            "Epoch 7/19\n",
            "----------\n",
            "train Loss: 0.0552 Acc: 0.9854\n",
            "test Loss: 0.1790 Acc: 0.9583\n",
            "\n",
            "Epoch 8/19\n",
            "----------\n",
            "train Loss: 0.0299 Acc: 0.9925\n",
            "test Loss: 0.1931 Acc: 0.9587\n",
            "\n",
            "Epoch 9/19\n",
            "----------\n",
            "train Loss: 0.0166 Acc: 0.9955\n",
            "test Loss: 0.2268 Acc: 0.9569\n",
            "\n",
            "Epoch 10/19\n",
            "----------\n",
            "train Loss: 0.0089 Acc: 0.9974\n",
            "test Loss: 0.2852 Acc: 0.9560\n",
            "\n",
            "Epoch 11/19\n",
            "----------\n",
            "train Loss: 0.0060 Acc: 0.9981\n",
            "test Loss: 0.3027 Acc: 0.9572\n",
            "\n",
            "Epoch 12/19\n",
            "----------\n",
            "train Loss: 0.0047 Acc: 0.9986\n",
            "test Loss: 0.3262 Acc: 0.9544\n",
            "\n",
            "Epoch 13/19\n",
            "----------\n",
            "train Loss: 0.0043 Acc: 0.9988\n",
            "test Loss: 0.3348 Acc: 0.9541\n",
            "\n",
            "Epoch 14/19\n",
            "----------\n",
            "train Loss: 0.0028 Acc: 0.9994\n",
            "test Loss: 0.3213 Acc: 0.9561\n",
            "\n",
            "Epoch 15/19\n",
            "----------\n",
            "train Loss: 0.0014 Acc: 0.9997\n",
            "test Loss: 0.3287 Acc: 0.9562\n",
            "\n",
            "Epoch 16/19\n",
            "----------\n",
            "train Loss: 0.0009 Acc: 0.9998\n",
            "test Loss: 0.3422 Acc: 0.9571\n",
            "\n",
            "Epoch 17/19\n",
            "----------\n",
            "train Loss: 0.0007 Acc: 0.9998\n",
            "test Loss: 0.3337 Acc: 0.9574\n",
            "\n",
            "Epoch 18/19\n",
            "----------\n",
            "train Loss: 0.0005 Acc: 0.9998\n",
            "test Loss: 0.3557 Acc: 0.9572\n",
            "\n",
            "Epoch 19/19\n",
            "----------\n",
            "train Loss: 0.0005 Acc: 0.9999\n",
            "test Loss: 0.3592 Acc: 0.9574\n",
            "\n",
            "Training completed in 31m 5s\n",
            "Best val Acc: 0.958705\n"
          ],
          "name": "stdout"
        }
      ]
    },
    {
      "cell_type": "code",
      "metadata": {
        "trusted": true,
        "colab": {
          "base_uri": "https://localhost:8080/"
        },
        "id": "2LFHGN43NSUB",
        "outputId": "f4b3faa5-0653-448b-8bc5-8842263b3d08"
      },
      "source": [
        "#train densenet121\n",
        "model_D121 = Densenet121()\n",
        "model_D121.to(device)\n",
        "\n",
        "criterion = nn.CrossEntropyLoss()\n",
        "optimizer = optim.Adam(model_D121.parameters(), lr=0.001)\n",
        "\n",
        "D121_loss = {'train': [], 'test' : []}\n",
        "D121_acc = {'train' : [], 'test' : []}\n",
        "\n",
        "step_lr_scheduler = lr_scheduler.StepLR(optimizer, step_size=7, gamma=0.1)\n",
        "\n",
        "model_D121 = train_model(model_D121, criterion, optimizer, step_lr_scheduler, D121_loss, D121_acc, num_epochs=20)"
      ],
      "execution_count": 10,
      "outputs": [
        {
          "output_type": "stream",
          "text": [
            "Epoch 0/19\n",
            "----------\n",
            "train Loss: 0.6125 Acc: 0.8153\n",
            "test Loss: 0.2944 Acc: 0.9134\n",
            "\n",
            "Epoch 1/19\n",
            "----------\n",
            "train Loss: 0.3588 Acc: 0.9021\n",
            "test Loss: 0.2642 Acc: 0.9287\n",
            "\n",
            "Epoch 2/19\n",
            "----------\n",
            "train Loss: 0.3464 Acc: 0.9041\n",
            "test Loss: 0.2548 Acc: 0.9296\n",
            "\n",
            "Epoch 3/19\n",
            "----------\n",
            "train Loss: 0.2418 Acc: 0.9339\n",
            "test Loss: 0.2186 Acc: 0.9387\n",
            "\n",
            "Epoch 4/19\n",
            "----------\n",
            "train Loss: 0.2249 Acc: 0.9406\n",
            "test Loss: 0.2742 Acc: 0.9326\n",
            "\n",
            "Epoch 5/19\n",
            "----------\n",
            "train Loss: 0.2268 Acc: 0.9390\n",
            "test Loss: 0.2249 Acc: 0.9398\n",
            "\n",
            "Epoch 6/19\n",
            "----------\n",
            "train Loss: 0.1735 Acc: 0.9519\n",
            "test Loss: 0.2311 Acc: 0.9374\n",
            "\n",
            "Epoch 7/19\n",
            "----------\n",
            "train Loss: 0.0932 Acc: 0.9747\n",
            "test Loss: 0.1772 Acc: 0.9539\n",
            "\n",
            "Epoch 8/19\n",
            "----------\n",
            "train Loss: 0.0637 Acc: 0.9833\n",
            "test Loss: 0.1768 Acc: 0.9551\n",
            "\n",
            "Epoch 9/19\n",
            "----------\n",
            "train Loss: 0.0467 Acc: 0.9882\n",
            "test Loss: 0.1965 Acc: 0.9544\n",
            "\n",
            "Epoch 10/19\n",
            "----------\n",
            "train Loss: 0.0336 Acc: 0.9912\n",
            "test Loss: 0.2151 Acc: 0.9530\n",
            "\n",
            "Epoch 11/19\n",
            "----------\n",
            "train Loss: 0.0234 Acc: 0.9940\n",
            "test Loss: 0.2567 Acc: 0.9509\n",
            "\n",
            "Epoch 12/19\n",
            "----------\n",
            "train Loss: 0.0171 Acc: 0.9955\n",
            "test Loss: 0.2781 Acc: 0.9514\n",
            "\n",
            "Epoch 13/19\n",
            "----------\n",
            "train Loss: 0.0124 Acc: 0.9962\n",
            "test Loss: 0.3187 Acc: 0.9493\n",
            "\n",
            "Epoch 14/19\n",
            "----------\n",
            "train Loss: 0.0070 Acc: 0.9980\n",
            "test Loss: 0.3249 Acc: 0.9495\n",
            "\n",
            "Epoch 15/19\n",
            "----------\n",
            "train Loss: 0.0050 Acc: 0.9986\n",
            "test Loss: 0.3296 Acc: 0.9497\n",
            "\n",
            "Epoch 16/19\n",
            "----------\n",
            "train Loss: 0.0044 Acc: 0.9987\n",
            "test Loss: 0.3472 Acc: 0.9502\n",
            "\n",
            "Epoch 17/19\n",
            "----------\n",
            "train Loss: 0.0037 Acc: 0.9989\n",
            "test Loss: 0.3680 Acc: 0.9499\n",
            "\n",
            "Epoch 18/19\n",
            "----------\n",
            "train Loss: 0.0031 Acc: 0.9992\n",
            "test Loss: 0.3739 Acc: 0.9504\n",
            "\n",
            "Epoch 19/19\n",
            "----------\n",
            "train Loss: 0.0026 Acc: 0.9992\n",
            "test Loss: 0.3783 Acc: 0.9510\n",
            "\n",
            "Training completed in 43m 25s\n",
            "Best val Acc: 0.955055\n"
          ],
          "name": "stdout"
        }
      ]
    },
    {
      "cell_type": "code",
      "metadata": {
        "trusted": true,
        "id": "5iFJ3QccNSUD",
        "colab": {
          "base_uri": "https://localhost:8080/"
        },
        "outputId": "caa1f955-5a97-4145-a5e5-e9ecb4a99ff1"
      },
      "source": [
        "#train mobilenetv3_rw\n",
        "model_Mv3 = Mobilenet_v3()\n",
        "model_Mv3.to(device)\n",
        "\n",
        "criterion = nn.CrossEntropyLoss()\n",
        "optimizer = optim.Adam(model_Mv3.parameters(), lr=0.001)\n",
        "\n",
        "Mv3_loss = {'train': [], 'test' : []}\n",
        "Mv3_acc = {'train' : [], 'test' : []}\n",
        "\n",
        "step_lr_scheduler = lr_scheduler.StepLR(optimizer, step_size=7, gamma=0.1)\n",
        "\n",
        "model_Mv3 = train_model(model_Mv3, criterion, optimizer, step_lr_scheduler, Mv3_loss, Mv3_acc, num_epochs=20)"
      ],
      "execution_count": 11,
      "outputs": [
        {
          "output_type": "stream",
          "text": [
            "Downloading: \"https://github.com/rwightman/pytorch-image-models/releases/download/v0.1-weights/mobilenetv3_100-35495452.pth\" to /root/.cache/torch/hub/checkpoints/mobilenetv3_100-35495452.pth\n"
          ],
          "name": "stderr"
        },
        {
          "output_type": "stream",
          "text": [
            "Epoch 0/19\n",
            "----------\n",
            "train Loss: 0.9079 Acc: 0.7030\n",
            "test Loss: 0.4281 Acc: 0.8714\n",
            "\n",
            "Epoch 1/19\n",
            "----------\n",
            "train Loss: 0.4003 Acc: 0.8804\n",
            "test Loss: 0.3140 Acc: 0.9095\n",
            "\n",
            "Epoch 2/19\n",
            "----------\n",
            "train Loss: 0.3145 Acc: 0.9072\n",
            "test Loss: 0.3007 Acc: 0.9140\n",
            "\n",
            "Epoch 3/19\n",
            "----------\n",
            "train Loss: 0.2619 Acc: 0.9235\n",
            "test Loss: 0.2647 Acc: 0.9219\n",
            "\n",
            "Epoch 4/19\n",
            "----------\n",
            "train Loss: 0.2302 Acc: 0.9331\n",
            "test Loss: 0.2848 Acc: 0.9187\n",
            "\n",
            "Epoch 5/19\n",
            "----------\n",
            "train Loss: 0.2048 Acc: 0.9412\n",
            "test Loss: 0.3044 Acc: 0.9148\n",
            "\n",
            "Epoch 6/19\n",
            "----------\n",
            "train Loss: 0.1932 Acc: 0.9444\n",
            "test Loss: 0.2781 Acc: 0.9235\n",
            "\n",
            "Epoch 7/19\n",
            "----------\n",
            "train Loss: 0.0972 Acc: 0.9722\n",
            "test Loss: 0.2425 Acc: 0.9365\n",
            "\n",
            "Epoch 8/19\n",
            "----------\n",
            "train Loss: 0.0684 Acc: 0.9812\n",
            "test Loss: 0.2574 Acc: 0.9370\n",
            "\n",
            "Epoch 9/19\n",
            "----------\n",
            "train Loss: 0.0511 Acc: 0.9861\n",
            "test Loss: 0.2824 Acc: 0.9344\n",
            "\n",
            "Epoch 10/19\n",
            "----------\n",
            "train Loss: 0.0375 Acc: 0.9899\n",
            "test Loss: 0.3109 Acc: 0.9312\n",
            "\n",
            "Epoch 11/19\n",
            "----------\n",
            "train Loss: 0.0294 Acc: 0.9920\n",
            "test Loss: 0.3252 Acc: 0.9317\n",
            "\n",
            "Epoch 12/19\n",
            "----------\n",
            "train Loss: 0.0216 Acc: 0.9941\n",
            "test Loss: 0.3664 Acc: 0.9307\n",
            "\n",
            "Epoch 13/19\n",
            "----------\n",
            "train Loss: 0.0165 Acc: 0.9951\n",
            "test Loss: 0.4101 Acc: 0.9305\n",
            "\n",
            "Epoch 14/19\n",
            "----------\n",
            "train Loss: 0.0110 Acc: 0.9968\n",
            "test Loss: 0.4015 Acc: 0.9317\n",
            "\n",
            "Epoch 15/19\n",
            "----------\n",
            "train Loss: 0.0095 Acc: 0.9973\n",
            "test Loss: 0.4110 Acc: 0.9325\n",
            "\n",
            "Epoch 16/19\n",
            "----------\n",
            "train Loss: 0.0089 Acc: 0.9974\n",
            "test Loss: 0.4080 Acc: 0.9322\n",
            "\n",
            "Epoch 17/19\n",
            "----------\n",
            "train Loss: 0.0080 Acc: 0.9976\n",
            "test Loss: 0.4226 Acc: 0.9329\n",
            "\n",
            "Epoch 18/19\n",
            "----------\n",
            "train Loss: 0.0071 Acc: 0.9980\n",
            "test Loss: 0.4210 Acc: 0.9316\n",
            "\n",
            "Epoch 19/19\n",
            "----------\n",
            "train Loss: 0.0070 Acc: 0.9981\n",
            "test Loss: 0.4334 Acc: 0.9316\n",
            "\n",
            "Training completed in 25m 44s\n",
            "Best val Acc: 0.936962\n"
          ],
          "name": "stdout"
        }
      ]
    },
    {
      "cell_type": "code",
      "metadata": {
        "id": "3QUX_5rZgoYg",
        "colab": {
          "base_uri": "https://localhost:8080/",
          "height": 851
        },
        "outputId": "b79610bf-2746-43b1-f570-4fa21b8d1b57"
      },
      "source": [
        "x_axis = np.linspace(1, len(R50d_loss['train']), len(R50d_loss['train']))\r\n",
        "plt.figure()\r\n",
        "\r\n",
        "plt.subplot(121)\r\n",
        "plt.plot(x_axis, R50d_loss['train'], label='Train')\r\n",
        "plt.plot(x_axis, R50d_loss['test'], label='Test')\r\n",
        "plt.legend()\r\n",
        "plt.xlabel('Epochs')\r\n",
        "plt.title('Resnet50d Loss')\r\n",
        "\r\n",
        "plt.subplot(122)\r\n",
        "plt.plot(x_axis, R50d_acc['train'], label='Train')\r\n",
        "plt.plot(x_axis, R50d_acc['test'], label='Test')\r\n",
        "plt.legend()\r\n",
        "plt.xlabel('Epochs')\r\n",
        "plt.title('Resnet50d Accuracy')\r\n",
        "\r\n",
        "plt.figure()\r\n",
        "\r\n",
        "plt.subplot(121)\r\n",
        "plt.plot(x_axis, Mv3_loss['train'], label='Train')\r\n",
        "plt.plot(x_axis, Mv3_loss['test'], label='Test')\r\n",
        "plt.legend()\r\n",
        "plt.xlabel('Epochs')\r\n",
        "plt.title('Densenet121 Loss')\r\n",
        "\r\n",
        "plt.subplot(122)\r\n",
        "plt.plot(x_axis, Mv3_acc['train'], label='Train')\r\n",
        "plt.plot(x_axis, Mv3_acc['test'], label='Test')\r\n",
        "plt.legend()\r\n",
        "plt.xlabel('Epochs')\r\n",
        "plt.title('Densenet121 Accuracy')\r\n",
        "\r\n",
        "plt.figure()\r\n",
        "\r\n",
        "plt.subplot(121)\r\n",
        "plt.plot(x_axis, R50d_loss['train'], label='Train')\r\n",
        "plt.plot(x_axis, R50d_loss['test'], label='Test')\r\n",
        "plt.legend()\r\n",
        "plt.xlabel('Epochs')\r\n",
        "plt.title('Mobilenet_v3 Loss')\r\n",
        "\r\n",
        "plt.subplot(122)\r\n",
        "plt.plot(x_axis, R50d_acc['train'], label='Train')\r\n",
        "plt.plot(x_axis, R50d_acc['test'], label='Test')\r\n",
        "plt.legend()\r\n",
        "plt.xlabel('Epochs')\r\n",
        "plt.title('Mobilenet_v3 Accuracy')\r\n",
        "\r\n",
        "plt.show()"
      ],
      "execution_count": 46,
      "outputs": [
        {
          "output_type": "display_data",
          "data": {
            "image/png": "[encoded data removed]",
            "text/plain": [
              "<Figure size 432x288 with 2 Axes>"
            ]
          },
          "metadata": {
            "tags": [],
            "needs_background": "light"
          }
        },
        {
          "output_type": "display_data",
          "data": {
            "image/png": "[encoded data removed]",
            "text/plain": [
              "<Figure size 432x288 with 2 Axes>"
            ]
          },
          "metadata": {
            "tags": [],
            "needs_background": "light"
          }
        },
        {
          "output_type": "display_data",
          "data": {
            "image/png": "[encoded data removed]",
            "text/plain": [
              "<Figure size 432x288 with 2 Axes>"
            ]
          },
          "metadata": {
            "tags": [],
            "needs_background": "light"
          }
        }
      ]
    },
    {
      "cell_type": "code",
      "metadata": {
        "id": "8hCCPs3Gh1YJ"
      },
      "source": [
        "R50d_data = {'Training': {'Loss':R50d_loss['train'], 'Accuracy':R50d_acc['train']},\r\n",
        "             'Test': {'Loss':R50d_loss['test'], 'Accuracy':R50d_acc['test']}}"
      ],
      "execution_count": null,
      "outputs": []
    }
  ]
}